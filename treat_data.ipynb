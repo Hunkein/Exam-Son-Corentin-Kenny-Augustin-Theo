{
 "cells": [
  {
   "cell_type": "code",
   "id": "initial_id",
   "metadata": {
    "collapsed": true,
    "ExecuteTime": {
     "end_time": "2024-12-02T13:27:53.579345Z",
     "start_time": "2024-12-02T13:27:53.576553Z"
    }
   },
   "source": [
    "import pandas as pd\n",
    "import plotly.express as px\n",
    "import os\n",
    "import soundfile as sf\n",
    "import librosa\n",
    "import numpy as np"
   ],
   "outputs": [],
   "execution_count": 5
  },
  {
   "metadata": {
    "ExecuteTime": {
     "end_time": "2024-12-02T13:17:22.711832Z",
     "start_time": "2024-12-02T13:17:22.670789Z"
    }
   },
   "cell_type": "code",
   "source": "big_df = pd.read_csv('data/segments_metadata_with_diagnosis.csv')",
   "id": "634a0d4cbf099700",
   "outputs": [
    {
     "data": {
      "text/plain": [
       "   Patient ID                   File Name  \\\n",
       "0         122  122_2b1_Tc_mc_LittC2SE.wav   \n",
       "1         122  122_2b1_Tc_mc_LittC2SE.wav   \n",
       "2         122  122_2b1_Tc_mc_LittC2SE.wav   \n",
       "3         122  122_2b1_Tc_mc_LittC2SE.wav   \n",
       "4         122  122_2b1_Tc_mc_LittC2SE.wav   \n",
       "\n",
       "                                Segment File  Diagnosis Location Equipment  \\\n",
       "0    122_Tc_LittC2SE_segment_1_0.01-3.26.wav  Pneumonia       Tc  LittC2SE   \n",
       "1    122_Tc_LittC2SE_segment_2_3.26-7.34.wav  Pneumonia       Tc  LittC2SE   \n",
       "2   122_Tc_LittC2SE_segment_3_7.34-10.64.wav  Pneumonia       Tc  LittC2SE   \n",
       "3  122_Tc_LittC2SE_segment_4_10.64-14.36.wav  Pneumonia       Tc  LittC2SE   \n",
       "4  122_Tc_LittC2SE_segment_5_14.36-18.14.wav  Pneumonia       Tc  LittC2SE   \n",
       "\n",
       "   Start (s)  End (s)  Crackles  Wheezes  \n",
       "0      0.007    3.264       0.0      1.0  \n",
       "1      3.264    7.336       0.0      1.0  \n",
       "2      7.336   10.636       0.0      1.0  \n",
       "3     10.636   14.364       0.0      1.0  \n",
       "4     14.364   18.136       0.0      1.0  "
      ],
      "text/html": [
       "<div>\n",
       "<style scoped>\n",
       "    .dataframe tbody tr th:only-of-type {\n",
       "        vertical-align: middle;\n",
       "    }\n",
       "\n",
       "    .dataframe tbody tr th {\n",
       "        vertical-align: top;\n",
       "    }\n",
       "\n",
       "    .dataframe thead th {\n",
       "        text-align: right;\n",
       "    }\n",
       "</style>\n",
       "<table border=\"1\" class=\"dataframe\">\n",
       "  <thead>\n",
       "    <tr style=\"text-align: right;\">\n",
       "      <th></th>\n",
       "      <th>Patient ID</th>\n",
       "      <th>File Name</th>\n",
       "      <th>Segment File</th>\n",
       "      <th>Diagnosis</th>\n",
       "      <th>Location</th>\n",
       "      <th>Equipment</th>\n",
       "      <th>Start (s)</th>\n",
       "      <th>End (s)</th>\n",
       "      <th>Crackles</th>\n",
       "      <th>Wheezes</th>\n",
       "    </tr>\n",
       "  </thead>\n",
       "  <tbody>\n",
       "    <tr>\n",
       "      <th>0</th>\n",
       "      <td>122</td>\n",
       "      <td>122_2b1_Tc_mc_LittC2SE.wav</td>\n",
       "      <td>122_Tc_LittC2SE_segment_1_0.01-3.26.wav</td>\n",
       "      <td>Pneumonia</td>\n",
       "      <td>Tc</td>\n",
       "      <td>LittC2SE</td>\n",
       "      <td>0.007</td>\n",
       "      <td>3.264</td>\n",
       "      <td>0.0</td>\n",
       "      <td>1.0</td>\n",
       "    </tr>\n",
       "    <tr>\n",
       "      <th>1</th>\n",
       "      <td>122</td>\n",
       "      <td>122_2b1_Tc_mc_LittC2SE.wav</td>\n",
       "      <td>122_Tc_LittC2SE_segment_2_3.26-7.34.wav</td>\n",
       "      <td>Pneumonia</td>\n",
       "      <td>Tc</td>\n",
       "      <td>LittC2SE</td>\n",
       "      <td>3.264</td>\n",
       "      <td>7.336</td>\n",
       "      <td>0.0</td>\n",
       "      <td>1.0</td>\n",
       "    </tr>\n",
       "    <tr>\n",
       "      <th>2</th>\n",
       "      <td>122</td>\n",
       "      <td>122_2b1_Tc_mc_LittC2SE.wav</td>\n",
       "      <td>122_Tc_LittC2SE_segment_3_7.34-10.64.wav</td>\n",
       "      <td>Pneumonia</td>\n",
       "      <td>Tc</td>\n",
       "      <td>LittC2SE</td>\n",
       "      <td>7.336</td>\n",
       "      <td>10.636</td>\n",
       "      <td>0.0</td>\n",
       "      <td>1.0</td>\n",
       "    </tr>\n",
       "    <tr>\n",
       "      <th>3</th>\n",
       "      <td>122</td>\n",
       "      <td>122_2b1_Tc_mc_LittC2SE.wav</td>\n",
       "      <td>122_Tc_LittC2SE_segment_4_10.64-14.36.wav</td>\n",
       "      <td>Pneumonia</td>\n",
       "      <td>Tc</td>\n",
       "      <td>LittC2SE</td>\n",
       "      <td>10.636</td>\n",
       "      <td>14.364</td>\n",
       "      <td>0.0</td>\n",
       "      <td>1.0</td>\n",
       "    </tr>\n",
       "    <tr>\n",
       "      <th>4</th>\n",
       "      <td>122</td>\n",
       "      <td>122_2b1_Tc_mc_LittC2SE.wav</td>\n",
       "      <td>122_Tc_LittC2SE_segment_5_14.36-18.14.wav</td>\n",
       "      <td>Pneumonia</td>\n",
       "      <td>Tc</td>\n",
       "      <td>LittC2SE</td>\n",
       "      <td>14.364</td>\n",
       "      <td>18.136</td>\n",
       "      <td>0.0</td>\n",
       "      <td>1.0</td>\n",
       "    </tr>\n",
       "  </tbody>\n",
       "</table>\n",
       "</div>"
      ]
     },
     "execution_count": 2,
     "metadata": {},
     "output_type": "execute_result"
    }
   ],
   "execution_count": 2
  },
  {
   "metadata": {
    "ExecuteTime": {
     "end_time": "2024-12-02T13:17:33.271218Z",
     "start_time": "2024-12-02T13:17:33.265243Z"
    }
   },
   "cell_type": "code",
   "source": "big_df.columns",
   "id": "740b7edb5fda8c84",
   "outputs": [
    {
     "data": {
      "text/plain": [
       "Index(['Patient ID', 'File Name', 'Segment File', 'Diagnosis', 'Location',\n",
       "       'Equipment', 'Start (s)', 'End (s)', 'Crackles', 'Wheezes'],\n",
       "      dtype='object')"
      ]
     },
     "execution_count": 3,
     "metadata": {},
     "output_type": "execute_result"
    }
   ],
   "execution_count": 3
  },
  {
   "metadata": {
    "ExecuteTime": {
     "end_time": "2024-12-02T13:19:57.935668Z",
     "start_time": "2024-12-02T13:19:57.925547Z"
    }
   },
   "cell_type": "code",
   "source": [
    "cols = list(big_df.columns)\n",
    "cols.append(cols.pop(cols.index('Diagnosis')))\n",
    "big_df = big_df[cols]\n",
    "\n",
    "big_df.head()"
   ],
   "id": "1d55ff092ca203a3",
   "outputs": [
    {
     "data": {
      "text/plain": [
       "   Patient ID                   File Name  \\\n",
       "0         122  122_2b1_Tc_mc_LittC2SE.wav   \n",
       "1         122  122_2b1_Tc_mc_LittC2SE.wav   \n",
       "2         122  122_2b1_Tc_mc_LittC2SE.wav   \n",
       "3         122  122_2b1_Tc_mc_LittC2SE.wav   \n",
       "4         122  122_2b1_Tc_mc_LittC2SE.wav   \n",
       "\n",
       "                                Segment File Location Equipment  Start (s)  \\\n",
       "0    122_Tc_LittC2SE_segment_1_0.01-3.26.wav       Tc  LittC2SE      0.007   \n",
       "1    122_Tc_LittC2SE_segment_2_3.26-7.34.wav       Tc  LittC2SE      3.264   \n",
       "2   122_Tc_LittC2SE_segment_3_7.34-10.64.wav       Tc  LittC2SE      7.336   \n",
       "3  122_Tc_LittC2SE_segment_4_10.64-14.36.wav       Tc  LittC2SE     10.636   \n",
       "4  122_Tc_LittC2SE_segment_5_14.36-18.14.wav       Tc  LittC2SE     14.364   \n",
       "\n",
       "   End (s)  Crackles  Wheezes  Diagnosis  \n",
       "0    3.264       0.0      1.0  Pneumonia  \n",
       "1    7.336       0.0      1.0  Pneumonia  \n",
       "2   10.636       0.0      1.0  Pneumonia  \n",
       "3   14.364       0.0      1.0  Pneumonia  \n",
       "4   18.136       0.0      1.0  Pneumonia  "
      ],
      "text/html": [
       "<div>\n",
       "<style scoped>\n",
       "    .dataframe tbody tr th:only-of-type {\n",
       "        vertical-align: middle;\n",
       "    }\n",
       "\n",
       "    .dataframe tbody tr th {\n",
       "        vertical-align: top;\n",
       "    }\n",
       "\n",
       "    .dataframe thead th {\n",
       "        text-align: right;\n",
       "    }\n",
       "</style>\n",
       "<table border=\"1\" class=\"dataframe\">\n",
       "  <thead>\n",
       "    <tr style=\"text-align: right;\">\n",
       "      <th></th>\n",
       "      <th>Patient ID</th>\n",
       "      <th>File Name</th>\n",
       "      <th>Segment File</th>\n",
       "      <th>Location</th>\n",
       "      <th>Equipment</th>\n",
       "      <th>Start (s)</th>\n",
       "      <th>End (s)</th>\n",
       "      <th>Crackles</th>\n",
       "      <th>Wheezes</th>\n",
       "      <th>Diagnosis</th>\n",
       "    </tr>\n",
       "  </thead>\n",
       "  <tbody>\n",
       "    <tr>\n",
       "      <th>0</th>\n",
       "      <td>122</td>\n",
       "      <td>122_2b1_Tc_mc_LittC2SE.wav</td>\n",
       "      <td>122_Tc_LittC2SE_segment_1_0.01-3.26.wav</td>\n",
       "      <td>Tc</td>\n",
       "      <td>LittC2SE</td>\n",
       "      <td>0.007</td>\n",
       "      <td>3.264</td>\n",
       "      <td>0.0</td>\n",
       "      <td>1.0</td>\n",
       "      <td>Pneumonia</td>\n",
       "    </tr>\n",
       "    <tr>\n",
       "      <th>1</th>\n",
       "      <td>122</td>\n",
       "      <td>122_2b1_Tc_mc_LittC2SE.wav</td>\n",
       "      <td>122_Tc_LittC2SE_segment_2_3.26-7.34.wav</td>\n",
       "      <td>Tc</td>\n",
       "      <td>LittC2SE</td>\n",
       "      <td>3.264</td>\n",
       "      <td>7.336</td>\n",
       "      <td>0.0</td>\n",
       "      <td>1.0</td>\n",
       "      <td>Pneumonia</td>\n",
       "    </tr>\n",
       "    <tr>\n",
       "      <th>2</th>\n",
       "      <td>122</td>\n",
       "      <td>122_2b1_Tc_mc_LittC2SE.wav</td>\n",
       "      <td>122_Tc_LittC2SE_segment_3_7.34-10.64.wav</td>\n",
       "      <td>Tc</td>\n",
       "      <td>LittC2SE</td>\n",
       "      <td>7.336</td>\n",
       "      <td>10.636</td>\n",
       "      <td>0.0</td>\n",
       "      <td>1.0</td>\n",
       "      <td>Pneumonia</td>\n",
       "    </tr>\n",
       "    <tr>\n",
       "      <th>3</th>\n",
       "      <td>122</td>\n",
       "      <td>122_2b1_Tc_mc_LittC2SE.wav</td>\n",
       "      <td>122_Tc_LittC2SE_segment_4_10.64-14.36.wav</td>\n",
       "      <td>Tc</td>\n",
       "      <td>LittC2SE</td>\n",
       "      <td>10.636</td>\n",
       "      <td>14.364</td>\n",
       "      <td>0.0</td>\n",
       "      <td>1.0</td>\n",
       "      <td>Pneumonia</td>\n",
       "    </tr>\n",
       "    <tr>\n",
       "      <th>4</th>\n",
       "      <td>122</td>\n",
       "      <td>122_2b1_Tc_mc_LittC2SE.wav</td>\n",
       "      <td>122_Tc_LittC2SE_segment_5_14.36-18.14.wav</td>\n",
       "      <td>Tc</td>\n",
       "      <td>LittC2SE</td>\n",
       "      <td>14.364</td>\n",
       "      <td>18.136</td>\n",
       "      <td>0.0</td>\n",
       "      <td>1.0</td>\n",
       "      <td>Pneumonia</td>\n",
       "    </tr>\n",
       "  </tbody>\n",
       "</table>\n",
       "</div>"
      ]
     },
     "execution_count": 4,
     "metadata": {},
     "output_type": "execute_result"
    }
   ],
   "execution_count": 4
  },
  {
   "metadata": {
    "ExecuteTime": {
     "end_time": "2024-12-02T13:36:18.649069Z",
     "start_time": "2024-12-02T13:36:18.637151Z"
    }
   },
   "cell_type": "code",
   "source": "[filename for filename in os.listdir('data/segments') if filename.startswith('122_Tc_LittC2SE_segment_3')]",
   "id": "d600ac0f094248eb",
   "outputs": [
    {
     "data": {
      "text/plain": [
       "['122_Tc_LittC2SE_segment_3_7.95-12.32.wav',\n",
       " '122_Tc_LittC2SE_segment_3_4.42-8.24.wav',\n",
       " '122_Tc_LittC2SE_segment_3_7.34-10.64.wav']"
      ]
     },
     "execution_count": 9,
     "metadata": {},
     "output_type": "execute_result"
    }
   ],
   "execution_count": 9
  },
  {
   "metadata": {},
   "cell_type": "markdown",
   "source": [
    "# Graphical analysis of the data :\n",
    "\n",
    "Spectrogram"
   ],
   "id": "c09cc686723d65da"
  },
  {
   "metadata": {
    "ExecuteTime": {
     "end_time": "2024-12-02T14:20:59.922789Z",
     "start_time": "2024-12-02T14:20:59.914349Z"
    }
   },
   "cell_type": "code",
   "source": [
    "# Load an audio file\n",
    "def spectrogram_plot(audio_filename, segment=False):\n",
    "    if segment:\n",
    "        path = 'data/segments/' + audio_filename\n",
    "    else:\n",
    "        path = 'data/Respiratory_Sound_Database/audio_and_txt_files/' + audio_filename\n",
    "\n",
    "    # Load the audio file\n",
    "    if not os.path.exists(path):\n",
    "        raise FileNotFoundError(f'File {path} not found')\n",
    "        return\n",
    "\n",
    "    y, sr = librosa.load(path, sr=None)\n",
    "\n",
    "    S = librosa.stft(y)\n",
    "    S_db = librosa.amplitude_to_db(abs(S), ref=np.max)\n",
    "\n",
    "    # Display the spectrogram\n",
    "    fig = px.imshow(S_db, title='Spectrogram of ' + path)\n",
    "\n",
    "    fig.show()\n",
    "\n",
    "# spectrogram_plot(big_df['Segment File'][2], segment=True)"
   ],
   "id": "2f09a0d189dd463f",
   "outputs": [],
   "execution_count": 16
  },
  {
   "metadata": {
    "ExecuteTime": {
     "end_time": "2024-12-02T14:21:03.552122Z",
     "start_time": "2024-12-02T14:21:03.549015Z"
    }
   },
   "cell_type": "code",
   "source": "# spectrogram_plot(big_df['File Name'][2])",
   "id": "4bb124781393e69b",
   "outputs": [],
   "execution_count": 17
  },
  {
   "metadata": {},
   "cell_type": "code",
   "outputs": [],
   "execution_count": null,
   "source": "",
   "id": "920e161123935b3e"
  }
 ],
 "metadata": {
  "kernelspec": {
   "display_name": "Python 3",
   "language": "python",
   "name": "python3"
  },
  "language_info": {
   "codemirror_mode": {
    "name": "ipython",
    "version": 2
   },
   "file_extension": ".py",
   "mimetype": "text/x-python",
   "name": "python",
   "nbconvert_exporter": "python",
   "pygments_lexer": "ipython2",
   "version": "2.7.6"
  }
 },
 "nbformat": 4,
 "nbformat_minor": 5
}
