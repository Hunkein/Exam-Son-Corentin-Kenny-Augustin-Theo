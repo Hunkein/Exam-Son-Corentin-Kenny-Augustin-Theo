{
 "cells": [
  {
   "cell_type": "markdown",
   "metadata": {},
   "source": [
    "# Importation des librairies"
   ]
  },
  {
   "cell_type": "code",
   "execution_count": 20,
   "metadata": {},
   "outputs": [],
   "source": [
    "import pandas as pd\n",
    "import numpy as np\n",
    "import matplotlib.pyplot as plt\n",
    "import seaborn as sns\n",
    "import os\n",
    "import plotly.express as px\n",
    "import glob"
   ]
  },
  {
   "cell_type": "markdown",
   "metadata": {},
   "source": [
    "# Chargement des données"
   ]
  },
  {
   "cell_type": "code",
   "execution_count": 64,
   "metadata": {},
   "outputs": [],
   "source": [
    "def extract_filenames():\n",
    "    # Use glob to get all the filenames in the folder\n",
    "    filenames = glob.glob('data/Respiratory_Sound_Database/audio_and_txt_files/*.txt')\n",
    "\n",
    "    data = []\n",
    "    for filename in filenames:\n",
    "        filename = filename.split('.')[0]\n",
    "\n",
    "        data_file = [f for f in filename.split('\\\\')[-1].split('_')]\n",
    "\n",
    "        dict_data = {\n",
    "            'Patient_number': str(data_file[0]),\n",
    "            'Recording_index': data_file[1],\n",
    "            'Chest_location': data_file[2],\n",
    "            'Acquisition_mode': data_file[3],\n",
    "            'Recording_equipment': data_file[4],\n",
    "            'Path': filename+\".wav\",\n",
    "        }\n",
    "\n",
    "        with open(filename +\".txt\", 'r') as file:\n",
    "            file = file.read()\n",
    "        \n",
    "        file = file.split('\\n')[:-1]\n",
    "        for f in file:\n",
    "            f = f.split('\\t')\n",
    "            dict_data_file = {\n",
    "                'Start': f[0],\n",
    "                'End': f[1],\n",
    "                'Crackles': f[2],\n",
    "                'Wheezes': f[3]\n",
    "            }\n",
    "            data.append(dict_data | dict_data_file)\n",
    "\n",
    "    filenames_df = pd.DataFrame(data)\n",
    "    return filenames_df\n",
    "\n",
    "def extract_demographic_data():\n",
    "\n",
    "    path = 'data/demographic_info.txt'\n",
    "    with open(path, 'r') as file:\n",
    "        file = file.read()\n",
    "    file = file.split('\\n')[1:]\n",
    "    file = [f.split(' ') for f in file]\n",
    "    \n",
    "    data = []\n",
    "    for f in file :\n",
    "        data.append({\n",
    "            'Patient_number': f[0],\n",
    "            'Age': f[1],\n",
    "            'Sex': f[2]\n",
    "        })\n",
    "    return pd.DataFrame(data)\n",
    "\n",
    "diag_df = pd.read_csv('data/Respiratory_Sound_Database/patient_diagnosis.csv', header=None, names=['Patient_number', 'Diagnosis'], dtype={'Patient_number': str, 'Diagnosis': str})\n",
    "\n",
    "\n",
    "# Merge\n",
    "data = pd.merge(extract_filenames(), diag_df, on='Patient_number')\n",
    "data = pd.merge(data, extract_demographic_data(), on='Patient_number')\n",
    "data.to_csv('data/data_generated/data_generated.csv', index=False)\n",
    "\n"
   ]
  },
  {
   "cell_type": "code",
   "execution_count": null,
   "metadata": {},
   "outputs": [],
   "source": []
  }
 ],
 "metadata": {
  "kernelspec": {
   "display_name": "son",
   "language": "python",
   "name": "python3"
  },
  "language_info": {
   "codemirror_mode": {
    "name": "ipython",
    "version": 3
   },
   "file_extension": ".py",
   "mimetype": "text/x-python",
   "name": "python",
   "nbconvert_exporter": "python",
   "pygments_lexer": "ipython3",
   "version": "3.11.10"
  }
 },
 "nbformat": 4,
 "nbformat_minor": 2
}
